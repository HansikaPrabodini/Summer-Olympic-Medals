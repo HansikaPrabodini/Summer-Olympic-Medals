{
 "cells": [
  {
   "cell_type": "code",
   "execution_count": null,
   "id": "153e400e",
   "metadata": {},
   "outputs": [],
   "source": []
  },
  {
   "cell_type": "code",
   "execution_count": 16,
   "id": "9d98b60f",
   "metadata": {},
   "outputs": [
    {
     "name": "stdout",
     "output_type": "stream",
     "text": [
      "R² score: 0.8862221121039306\n",
      "Training MSE: 5.8233288889915364\n",
      "Testing MSE: 34.22912010780919\n"
     ]
    },
    {
     "data": {
      "text/html": [
       "<div>\n",
       "<style scoped>\n",
       "    .dataframe tbody tr th:only-of-type {\n",
       "        vertical-align: middle;\n",
       "    }\n",
       "\n",
       "    .dataframe tbody tr th {\n",
       "        vertical-align: top;\n",
       "    }\n",
       "\n",
       "    .dataframe thead th {\n",
       "        text-align: right;\n",
       "    }\n",
       "</style>\n",
       "<table border=\"1\" class=\"dataframe\">\n",
       "  <thead>\n",
       "    <tr style=\"text-align: right;\">\n",
       "      <th></th>\n",
       "      <th>Country</th>\n",
       "      <th>Original_Medals</th>\n",
       "      <th>Predicted_Medals</th>\n",
       "    </tr>\n",
       "  </thead>\n",
       "  <tbody>\n",
       "    <tr>\n",
       "      <th>448</th>\n",
       "      <td>Sudan</td>\n",
       "      <td>1</td>\n",
       "      <td>3.336000</td>\n",
       "    </tr>\n",
       "    <tr>\n",
       "      <th>486</th>\n",
       "      <td>Tunisia</td>\n",
       "      <td>3</td>\n",
       "      <td>3.370333</td>\n",
       "    </tr>\n",
       "    <tr>\n",
       "      <th>215</th>\n",
       "      <td>Hungary</td>\n",
       "      <td>15</td>\n",
       "      <td>14.105747</td>\n",
       "    </tr>\n",
       "    <tr>\n",
       "      <th>212</th>\n",
       "      <td>Hungary</td>\n",
       "      <td>17</td>\n",
       "      <td>13.040509</td>\n",
       "    </tr>\n",
       "    <tr>\n",
       "      <th>481</th>\n",
       "      <td>Trinidad and Tobago</td>\n",
       "      <td>2</td>\n",
       "      <td>2.457500</td>\n",
       "    </tr>\n",
       "    <tr>\n",
       "      <th>...</th>\n",
       "      <td>...</td>\n",
       "      <td>...</td>\n",
       "      <td>...</td>\n",
       "    </tr>\n",
       "    <tr>\n",
       "      <th>346</th>\n",
       "      <td>New Zealand</td>\n",
       "      <td>9</td>\n",
       "      <td>9.085394</td>\n",
       "    </tr>\n",
       "    <tr>\n",
       "      <th>228</th>\n",
       "      <td>Indonesia</td>\n",
       "      <td>5</td>\n",
       "      <td>3.421294</td>\n",
       "    </tr>\n",
       "    <tr>\n",
       "      <th>606</th>\n",
       "      <td>Jordan</td>\n",
       "      <td>2</td>\n",
       "      <td>1.738000</td>\n",
       "    </tr>\n",
       "    <tr>\n",
       "      <th>188</th>\n",
       "      <td>Germany</td>\n",
       "      <td>82</td>\n",
       "      <td>53.868000</td>\n",
       "    </tr>\n",
       "    <tr>\n",
       "      <th>398</th>\n",
       "      <td>Romania</td>\n",
       "      <td>4</td>\n",
       "      <td>7.442696</td>\n",
       "    </tr>\n",
       "  </tbody>\n",
       "</table>\n",
       "<p>126 rows × 3 columns</p>\n",
       "</div>"
      ],
      "text/plain": [
       "                 Country  Original_Medals  Predicted_Medals\n",
       "448                Sudan                1          3.336000\n",
       "486              Tunisia                3          3.370333\n",
       "215              Hungary               15         14.105747\n",
       "212              Hungary               17         13.040509\n",
       "481  Trinidad and Tobago                2          2.457500\n",
       "..                   ...              ...               ...\n",
       "346          New Zealand                9          9.085394\n",
       "228            Indonesia                5          3.421294\n",
       "606               Jordan                2          1.738000\n",
       "188              Germany               82         53.868000\n",
       "398              Romania                4          7.442696\n",
       "\n",
       "[126 rows x 3 columns]"
      ]
     },
     "execution_count": 16,
     "metadata": {},
     "output_type": "execute_result"
    }
   ],
   "source": [
    "\n"
   ]
  },
  {
   "cell_type": "code",
   "execution_count": 12,
   "id": "29d42e90",
   "metadata": {},
   "outputs": [
    {
     "name": "stdout",
     "output_type": "stream",
     "text": [
      "(91, 15)\n"
     ]
    }
   ],
   "source": [
    "print(X_test.shape)\n"
   ]
  },
  {
   "cell_type": "code",
   "execution_count": 11,
   "id": "b5c7f2a6",
   "metadata": {},
   "outputs": [
    {
     "name": "stdout",
     "output_type": "stream",
     "text": [
      "Index(['Host_or_Not', 'population_growth', 'GDP_growth', 'HDI',\n",
      "       'Region_East Asia and Pacific', 'Region_Europe and Central Asia',\n",
      "       'Region_Latin America and Caribbean',\n",
      "       'Region_Middle East and North Africa', 'Region_North America',\n",
      "       'Region_South Asia', 'Region_Sub-Saharan Africa', 'GDP_PCA',\n",
      "       'population_PCA', 'income_PCA', 'athletes_PCA'],\n",
      "      dtype='object')\n",
      "Index(['Host_or_Not', 'population_growth', 'GDP_growth', 'HDI',\n",
      "       'Region_East Asia and Pacific', 'Region_Europe and Central Asia',\n",
      "       'Region_Latin America and Caribbean',\n",
      "       'Region_Middle East and North Africa', 'Region_North America',\n",
      "       'Region_South Asia', 'Region_Sub-Saharan Africa', 'GDP_PCA',\n",
      "       'population_PCA', 'income_PCA', 'athletes_PCA'],\n",
      "      dtype='object')\n"
     ]
    }
   ],
   "source": [
    "print(X_test.columns)\n",
    "print(X_train.columns)\n"
   ]
  },
  {
   "cell_type": "code",
   "execution_count": null,
   "id": "86b4cca8",
   "metadata": {},
   "outputs": [],
   "source": []
  },
  {
   "cell_type": "code",
   "execution_count": null,
   "id": "bd3bf90e",
   "metadata": {},
   "outputs": [],
   "source": []
  },
  {
   "cell_type": "code",
   "execution_count": null,
   "id": "efc32925",
   "metadata": {},
   "outputs": [],
   "source": []
  },
  {
   "cell_type": "code",
   "execution_count": null,
   "id": "6cb5b841",
   "metadata": {},
   "outputs": [],
   "source": []
  },
  {
   "cell_type": "code",
   "execution_count": null,
   "id": "582a563f",
   "metadata": {},
   "outputs": [],
   "source": []
  },
  {
   "cell_type": "code",
   "execution_count": 2,
   "id": "58a8382d",
   "metadata": {},
   "outputs": [],
   "source": [
    "import pickle\n",
    "pickle_out = open(\"model.pkl\",\"wb\")\n",
    "pickle.dump(model,pickle_out)\n",
    "pickle_out.close()\n"
   ]
  },
  {
   "cell_type": "code",
   "execution_count": null,
   "id": "fe784e6f",
   "metadata": {},
   "outputs": [],
   "source": []
  },
  {
   "cell_type": "code",
   "execution_count": null,
   "id": "64525bcc",
   "metadata": {},
   "outputs": [],
   "source": []
  },
  {
   "cell_type": "code",
   "execution_count": null,
   "id": "78f2bfae",
   "metadata": {},
   "outputs": [],
   "source": []
  },
  {
   "cell_type": "code",
   "execution_count": null,
   "id": "7eba651c",
   "metadata": {},
   "outputs": [],
   "source": []
  }
 ],
 "metadata": {
  "kernelspec": {
   "display_name": "Python 3 (ipykernel)",
   "language": "python",
   "name": "python3"
  },
  "language_info": {
   "codemirror_mode": {
    "name": "ipython",
    "version": 3
   },
   "file_extension": ".py",
   "mimetype": "text/x-python",
   "name": "python",
   "nbconvert_exporter": "python",
   "pygments_lexer": "ipython3",
   "version": "3.11.4"
  }
 },
 "nbformat": 4,
 "nbformat_minor": 5
}
